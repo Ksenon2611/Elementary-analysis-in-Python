{
 "cells": [
  {
   "cell_type": "markdown",
   "metadata": {
    "deletable": true,
    "editable": true
   },
   "source": [
    "# Data Visualization in Python"
   ]
  },
  {
   "cell_type": "markdown",
   "metadata": {
    "deletable": true,
    "editable": true
   },
   "source": [
    "Upload our dataset PNL_Data and conduct analysis with few variables by using visualization library.\n",
    "\n",
    "First of all, upload those libraries, which help us represent our dataset in table view and make some graphs : "
   ]
  },
  {
   "cell_type": "code",
   "execution_count": 1,
   "metadata": {
    "collapsed": false,
    "deletable": true,
    "editable": true
   },
   "outputs": [],
   "source": [
    "import pandas as pd # Import 'pandas' library, which allows to discover data in table view\n",
    "import matplotlib.pyplot as plt # 'matplotlib' librarys allows to build visualize our data and build various graphs\n",
    "%matplotlib inline \n",
    "# Option 'inline' allows to build graphs inside one 'workplace' window whthout popup windows"
   ]
  },
  {
   "cell_type": "code",
   "execution_count": 2,
   "metadata": {
    "collapsed": false,
    "deletable": true,
    "editable": true,
    "scrolled": true
   },
   "outputs": [
    {
     "data": {
      "text/plain": [
       "(50000, 19)"
      ]
     },
     "execution_count": 2,
     "metadata": {},
     "output_type": "execute_result"
    }
   ],
   "source": [
    "data = pd.read_csv('PNL_Data.csv',sep=';', decimal=',') # Upload our dataset\n",
    "data.shape # Dataset dimension"
   ]
  },
  {
   "cell_type": "code",
   "execution_count": 3,
   "metadata": {
    "collapsed": false,
    "deletable": true,
    "editable": true
   },
   "outputs": [
    {
     "data": {
      "text/html": [
       "<div>\n",
       "<table border=\"1\" class=\"dataframe\">\n",
       "  <thead>\n",
       "    <tr style=\"text-align: right;\">\n",
       "      <th></th>\n",
       "      <th>amt_CC_utilization_6max</th>\n",
       "      <th>qty_inc_cash_6avg</th>\n",
       "      <th>amt_outstanding_rub_pl</th>\n",
       "      <th>count_comm_PL_6m</th>\n",
       "      <th>sum1_inc_interest_3avg</th>\n",
       "      <th>amt_bal_rur_DC_6min</th>\n",
       "      <th>count_credit_closed</th>\n",
       "      <th>sum1_spend_pos_6avg</th>\n",
       "      <th>code_tb</th>\n",
       "      <th>qty_spend_cash_6avg</th>\n",
       "      <th>sum_inc_social_1m</th>\n",
       "      <th>sum1_inc_cash_3avg</th>\n",
       "      <th>qty_spend_loan_6avg</th>\n",
       "      <th>num_mnth_max_close_cred</th>\n",
       "      <th>num_mnth_max_open_dep</th>\n",
       "      <th>num_mnth_issue_CC_w4</th>\n",
       "      <th>num_mnth_max_sbol</th>\n",
       "      <th>num_mnth_open_social_act_w4</th>\n",
       "      <th>nflag_resp_fact</th>\n",
       "    </tr>\n",
       "  </thead>\n",
       "  <tbody>\n",
       "    <tr>\n",
       "      <th>0</th>\n",
       "      <td>0.000000</td>\n",
       "      <td>0.166667</td>\n",
       "      <td>0.00</td>\n",
       "      <td>2</td>\n",
       "      <td>0.000000</td>\n",
       "      <td>31958.16</td>\n",
       "      <td>1</td>\n",
       "      <td>484.647200</td>\n",
       "      <td>42</td>\n",
       "      <td>2.166667</td>\n",
       "      <td>0.00</td>\n",
       "      <td>0.000000</td>\n",
       "      <td>1.000000</td>\n",
       "      <td>6.9</td>\n",
       "      <td>NaN</td>\n",
       "      <td>NaN</td>\n",
       "      <td>0.4</td>\n",
       "      <td>NaN</td>\n",
       "      <td>0</td>\n",
       "    </tr>\n",
       "    <tr>\n",
       "      <th>1</th>\n",
       "      <td>0.000000</td>\n",
       "      <td>3.833333</td>\n",
       "      <td>0.00</td>\n",
       "      <td>1</td>\n",
       "      <td>0.000000</td>\n",
       "      <td>119.16</td>\n",
       "      <td>0</td>\n",
       "      <td>769.419306</td>\n",
       "      <td>54</td>\n",
       "      <td>5.833333</td>\n",
       "      <td>0.00</td>\n",
       "      <td>9520.000000</td>\n",
       "      <td>0.000000</td>\n",
       "      <td>NaN</td>\n",
       "      <td>NaN</td>\n",
       "      <td>32.1</td>\n",
       "      <td>NaN</td>\n",
       "      <td>NaN</td>\n",
       "      <td>0</td>\n",
       "    </tr>\n",
       "    <tr>\n",
       "      <th>2</th>\n",
       "      <td>0.000000</td>\n",
       "      <td>0.833333</td>\n",
       "      <td>0.00</td>\n",
       "      <td>0</td>\n",
       "      <td>0.000000</td>\n",
       "      <td>10082.80</td>\n",
       "      <td>0</td>\n",
       "      <td>1544.185000</td>\n",
       "      <td>40</td>\n",
       "      <td>4.000000</td>\n",
       "      <td>0.00</td>\n",
       "      <td>10000.000000</td>\n",
       "      <td>0.000000</td>\n",
       "      <td>NaN</td>\n",
       "      <td>NaN</td>\n",
       "      <td>8.7</td>\n",
       "      <td>0.6</td>\n",
       "      <td>NaN</td>\n",
       "      <td>0</td>\n",
       "    </tr>\n",
       "    <tr>\n",
       "      <th>3</th>\n",
       "      <td>0.104932</td>\n",
       "      <td>3.833333</td>\n",
       "      <td>0.00</td>\n",
       "      <td>0</td>\n",
       "      <td>332.210000</td>\n",
       "      <td>28.41</td>\n",
       "      <td>2</td>\n",
       "      <td>348.054382</td>\n",
       "      <td>44</td>\n",
       "      <td>9.833333</td>\n",
       "      <td>13199.07</td>\n",
       "      <td>4109.090909</td>\n",
       "      <td>0.000000</td>\n",
       "      <td>11.6</td>\n",
       "      <td>7.5</td>\n",
       "      <td>31.8</td>\n",
       "      <td>0.9</td>\n",
       "      <td>44.9</td>\n",
       "      <td>0</td>\n",
       "    </tr>\n",
       "    <tr>\n",
       "      <th>4</th>\n",
       "      <td>0.000000</td>\n",
       "      <td>0.166667</td>\n",
       "      <td>0.00</td>\n",
       "      <td>1</td>\n",
       "      <td>690.437500</td>\n",
       "      <td>4354.49</td>\n",
       "      <td>0</td>\n",
       "      <td>0.000000</td>\n",
       "      <td>16</td>\n",
       "      <td>1.500000</td>\n",
       "      <td>0.00</td>\n",
       "      <td>0.000000</td>\n",
       "      <td>0.000000</td>\n",
       "      <td>NaN</td>\n",
       "      <td>33.0</td>\n",
       "      <td>36.3</td>\n",
       "      <td>NaN</td>\n",
       "      <td>NaN</td>\n",
       "      <td>0</td>\n",
       "    </tr>\n",
       "    <tr>\n",
       "      <th>5</th>\n",
       "      <td>0.000000</td>\n",
       "      <td>1.666667</td>\n",
       "      <td>43742.68</td>\n",
       "      <td>1</td>\n",
       "      <td>0.010000</td>\n",
       "      <td>7.81</td>\n",
       "      <td>0</td>\n",
       "      <td>1198.877407</td>\n",
       "      <td>67</td>\n",
       "      <td>2.500000</td>\n",
       "      <td>33085.80</td>\n",
       "      <td>4000.000000</td>\n",
       "      <td>2.500000</td>\n",
       "      <td>NaN</td>\n",
       "      <td>NaN</td>\n",
       "      <td>NaN</td>\n",
       "      <td>16.5</td>\n",
       "      <td>NaN</td>\n",
       "      <td>0</td>\n",
       "    </tr>\n",
       "    <tr>\n",
       "      <th>6</th>\n",
       "      <td>0.000000</td>\n",
       "      <td>0.666667</td>\n",
       "      <td>0.00</td>\n",
       "      <td>2</td>\n",
       "      <td>0.000000</td>\n",
       "      <td>0.00</td>\n",
       "      <td>1</td>\n",
       "      <td>0.000000</td>\n",
       "      <td>42</td>\n",
       "      <td>0.000000</td>\n",
       "      <td>0.00</td>\n",
       "      <td>0.000000</td>\n",
       "      <td>0.500000</td>\n",
       "      <td>2.2</td>\n",
       "      <td>NaN</td>\n",
       "      <td>NaN</td>\n",
       "      <td>NaN</td>\n",
       "      <td>NaN</td>\n",
       "      <td>0</td>\n",
       "    </tr>\n",
       "    <tr>\n",
       "      <th>7</th>\n",
       "      <td>0.999814</td>\n",
       "      <td>1.666667</td>\n",
       "      <td>410902.26</td>\n",
       "      <td>0</td>\n",
       "      <td>5.805000</td>\n",
       "      <td>5425.94</td>\n",
       "      <td>3</td>\n",
       "      <td>2154.557500</td>\n",
       "      <td>55</td>\n",
       "      <td>12.000000</td>\n",
       "      <td>2465.67</td>\n",
       "      <td>16825.000000</td>\n",
       "      <td>2.333333</td>\n",
       "      <td>42.7</td>\n",
       "      <td>NaN</td>\n",
       "      <td>26.9</td>\n",
       "      <td>11.8</td>\n",
       "      <td>50.0</td>\n",
       "      <td>1</td>\n",
       "    </tr>\n",
       "    <tr>\n",
       "      <th>8</th>\n",
       "      <td>0.000000</td>\n",
       "      <td>0.000000</td>\n",
       "      <td>0.00</td>\n",
       "      <td>3</td>\n",
       "      <td>70.672857</td>\n",
       "      <td>49595.47</td>\n",
       "      <td>0</td>\n",
       "      <td>616.153571</td>\n",
       "      <td>99</td>\n",
       "      <td>0.500000</td>\n",
       "      <td>8542.60</td>\n",
       "      <td>0.000000</td>\n",
       "      <td>0.000000</td>\n",
       "      <td>NaN</td>\n",
       "      <td>292.3</td>\n",
       "      <td>NaN</td>\n",
       "      <td>NaN</td>\n",
       "      <td>28.8</td>\n",
       "      <td>0</td>\n",
       "    </tr>\n",
       "    <tr>\n",
       "      <th>9</th>\n",
       "      <td>0.187961</td>\n",
       "      <td>0.166667</td>\n",
       "      <td>0.00</td>\n",
       "      <td>0</td>\n",
       "      <td>0.010000</td>\n",
       "      <td>520.85</td>\n",
       "      <td>0</td>\n",
       "      <td>2050.803171</td>\n",
       "      <td>16</td>\n",
       "      <td>6.333333</td>\n",
       "      <td>0.00</td>\n",
       "      <td>14100.000000</td>\n",
       "      <td>0.000000</td>\n",
       "      <td>NaN</td>\n",
       "      <td>NaN</td>\n",
       "      <td>53.3</td>\n",
       "      <td>0.2</td>\n",
       "      <td>NaN</td>\n",
       "      <td>0</td>\n",
       "    </tr>\n",
       "  </tbody>\n",
       "</table>\n",
       "</div>"
      ],
      "text/plain": [
       "   amt_CC_utilization_6max  qty_inc_cash_6avg  amt_outstanding_rub_pl  \\\n",
       "0                 0.000000           0.166667                    0.00   \n",
       "1                 0.000000           3.833333                    0.00   \n",
       "2                 0.000000           0.833333                    0.00   \n",
       "3                 0.104932           3.833333                    0.00   \n",
       "4                 0.000000           0.166667                    0.00   \n",
       "5                 0.000000           1.666667                43742.68   \n",
       "6                 0.000000           0.666667                    0.00   \n",
       "7                 0.999814           1.666667               410902.26   \n",
       "8                 0.000000           0.000000                    0.00   \n",
       "9                 0.187961           0.166667                    0.00   \n",
       "\n",
       "   count_comm_PL_6m  sum1_inc_interest_3avg  amt_bal_rur_DC_6min  \\\n",
       "0                 2                0.000000             31958.16   \n",
       "1                 1                0.000000               119.16   \n",
       "2                 0                0.000000             10082.80   \n",
       "3                 0              332.210000                28.41   \n",
       "4                 1              690.437500              4354.49   \n",
       "5                 1                0.010000                 7.81   \n",
       "6                 2                0.000000                 0.00   \n",
       "7                 0                5.805000              5425.94   \n",
       "8                 3               70.672857             49595.47   \n",
       "9                 0                0.010000               520.85   \n",
       "\n",
       "   count_credit_closed  sum1_spend_pos_6avg  code_tb  qty_spend_cash_6avg  \\\n",
       "0                    1           484.647200       42             2.166667   \n",
       "1                    0           769.419306       54             5.833333   \n",
       "2                    0          1544.185000       40             4.000000   \n",
       "3                    2           348.054382       44             9.833333   \n",
       "4                    0             0.000000       16             1.500000   \n",
       "5                    0          1198.877407       67             2.500000   \n",
       "6                    1             0.000000       42             0.000000   \n",
       "7                    3          2154.557500       55            12.000000   \n",
       "8                    0           616.153571       99             0.500000   \n",
       "9                    0          2050.803171       16             6.333333   \n",
       "\n",
       "   sum_inc_social_1m  sum1_inc_cash_3avg  qty_spend_loan_6avg  \\\n",
       "0               0.00            0.000000             1.000000   \n",
       "1               0.00         9520.000000             0.000000   \n",
       "2               0.00        10000.000000             0.000000   \n",
       "3           13199.07         4109.090909             0.000000   \n",
       "4               0.00            0.000000             0.000000   \n",
       "5           33085.80         4000.000000             2.500000   \n",
       "6               0.00            0.000000             0.500000   \n",
       "7            2465.67        16825.000000             2.333333   \n",
       "8            8542.60            0.000000             0.000000   \n",
       "9               0.00        14100.000000             0.000000   \n",
       "\n",
       "   num_mnth_max_close_cred  num_mnth_max_open_dep  num_mnth_issue_CC_w4  \\\n",
       "0                      6.9                    NaN                   NaN   \n",
       "1                      NaN                    NaN                  32.1   \n",
       "2                      NaN                    NaN                   8.7   \n",
       "3                     11.6                    7.5                  31.8   \n",
       "4                      NaN                   33.0                  36.3   \n",
       "5                      NaN                    NaN                   NaN   \n",
       "6                      2.2                    NaN                   NaN   \n",
       "7                     42.7                    NaN                  26.9   \n",
       "8                      NaN                  292.3                   NaN   \n",
       "9                      NaN                    NaN                  53.3   \n",
       "\n",
       "   num_mnth_max_sbol  num_mnth_open_social_act_w4  nflag_resp_fact  \n",
       "0                0.4                          NaN                0  \n",
       "1                NaN                          NaN                0  \n",
       "2                0.6                          NaN                0  \n",
       "3                0.9                         44.9                0  \n",
       "4                NaN                          NaN                0  \n",
       "5               16.5                          NaN                0  \n",
       "6                NaN                          NaN                0  \n",
       "7               11.8                         50.0                1  \n",
       "8                NaN                         28.8                0  \n",
       "9                0.2                          NaN                0  "
      ]
     },
     "execution_count": 3,
     "metadata": {},
     "output_type": "execute_result"
    }
   ],
   "source": [
    "data.head(10) # Look at first 10 rows of our dataset"
   ]
  },
  {
   "cell_type": "markdown",
   "metadata": {
    "deletable": true,
    "editable": true
   },
   "source": [
    "Lets look at distribution of our target \"nflag_resp_fact\" (1 if client will take credit after call,otherwise 0):"
   ]
  },
  {
   "cell_type": "code",
   "execution_count": 4,
   "metadata": {
    "collapsed": false,
    "deletable": true,
    "editable": true
   },
   "outputs": [
    {
     "name": "stdout",
     "output_type": "stream",
     "text": [
      "0    47738\n",
      "1     2262\n",
      "Name: nflag_resp_fact, dtype: int64\n"
     ]
    }
   ],
   "source": [
    "# Distribution of our target\n",
    "print (data['nflag_resp_fact'].value_counts()) "
   ]
  },
  {
   "cell_type": "code",
   "execution_count": 5,
   "metadata": {
    "collapsed": false,
    "deletable": true,
    "editable": true
   },
   "outputs": [
    {
     "data": {
      "text/plain": [
       "[<matplotlib.text.Text at 0x7f0b198c0cf8>,\n",
       " <matplotlib.text.Text at 0x7f0b199156d8>]"
      ]
     },
     "execution_count": 5,
     "metadata": {},
     "output_type": "execute_result"
    },
    {
     "data": {
      "image/png": "[encoded data removed]",
      "text/plain": [
       "<matplotlib.figure.Figure at 0x7f0b19910588>"
      ]
     },
     "metadata": {},
     "output_type": "display_data"
    }
   ],
   "source": [
    "# Histogram of this distribution\n",
    "gist = data['nflag_resp_fact'].value_counts().plot(kind='bar') \n",
    "gist.set(xlabel = 'Client response', ylabel = 'Amount')"
   ]
  },
  {
   "cell_type": "code",
   "execution_count": 6,
   "metadata": {
    "collapsed": false,
    "deletable": true,
    "editable": true
   },
   "outputs": [
    {
     "data": {
      "text/plain": [
       "[<matplotlib.text.Text at 0x7f0b198690b8>,\n",
       " <matplotlib.text.Text at 0x7f0b198c0780>]"
      ]
     },
     "execution_count": 6,
     "metadata": {},
     "output_type": "execute_result"
    },
    {
     "data": {
      "image/png": "[encoded data removed]",
      "text/plain": [
       "<matplotlib.figure.Figure at 0x7f0b198b4668>"
      ]
     },
     "metadata": {},
     "output_type": "display_data"
    }
   ],
   "source": [
    "# Now lets build distribution of average bill on POS expenses,excluding outlier events (bill more than 5k)\n",
    "gist = data[data['sum1_spend_pos_6avg'] < 5000]['sum1_spend_pos_6avg'].hist(bins = 80) \n",
    "gist.set(xlabel='Average spending in POS category',ylabel='Event frequency')"
   ]
  },
  {
   "cell_type": "code",
   "execution_count": 7,
   "metadata": {
    "collapsed": false,
    "deletable": true,
    "editable": true
   },
   "outputs": [
    {
     "name": "stdout",
     "output_type": "stream",
     "text": [
      "0     25026\n",
      "1     17170\n",
      "2      5366\n",
      "3      1669\n",
      "4       496\n",
      "5       168\n",
      "6        56\n",
      "7        27\n",
      "8        15\n",
      "9         4\n",
      "13        1\n",
      "11        1\n",
      "10        1\n",
      "Name: count_credit_closed, dtype: int64\n"
     ]
    }
   ],
   "source": [
    "# Distribution by 'closed credit quantity' variable\n",
    "print(data['count_credit_closed'].value_counts()) "
   ]
  },
  {
   "cell_type": "code",
   "execution_count": 8,
   "metadata": {
    "collapsed": false,
    "deletable": true,
    "editable": true
   },
   "outputs": [
    {
     "data": {
      "text/plain": [
       "<matplotlib.axes._subplots.AxesSubplot at 0x7f0b15a66ef0>"
      ]
     },
     "execution_count": 8,
     "metadata": {},
     "output_type": "execute_result"
    },
    {
     "data": {
      "image/png": "[encoded data removed]",
      "text/plain": [
       "<matplotlib.figure.Figure at 0x7f0b1a32b748>"
      ]
     },
     "metadata": {},
     "output_type": "display_data"
    }
   ],
   "source": [
    "# Build pie chart with distribution by 'closed credit quantity'\n",
    "data['count_credit_closed'].value_counts().plot(kind='pie', legend= True,labels = None,startangle=90,autopct='%1.0f%%') "
   ]
  },
  {
   "cell_type": "markdown",
   "metadata": {
    "deletable": true,
    "editable": true
   },
   "source": [
    " 50% clients don't have credits or haven't closed any credit yet."
   ]
  }
 ],
 "metadata": {
  "anaconda-cloud": {},
  "kernelspec": {
   "display_name": "Python 3",
   "language": "python",
   "name": "python3"
  },
  "language_info": {
   "codemirror_mode": {
    "name": "ipython",
    "version": 3
   },
   "file_extension": ".py",
   "mimetype": "text/x-python",
   "name": "python",
   "nbconvert_exporter": "python",
   "pygments_lexer": "ipython3",
   "version": "3.5.2"
  }
 },
 "nbformat": 4,
 "nbformat_minor": 1
}
